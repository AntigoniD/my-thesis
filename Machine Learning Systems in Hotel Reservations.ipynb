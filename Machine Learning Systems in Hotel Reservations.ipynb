{
 "cells": [
  {
   "cell_type": "code",
   "execution_count": 1,
   "id": "1f972223",
   "metadata": {},
   "outputs": [],
   "source": [
    "import xgboost as xgb\n",
    "import numpy as np\n",
    "import matplotlib.pyplot as plt\n",
    "import pandas as pd"
   ]
  },
  {
   "cell_type": "markdown",
   "id": "f3b0f916",
   "metadata": {},
   "source": [
    "# Import the original data"
   ]
  },
  {
   "cell_type": "code",
   "execution_count": 2,
   "id": "ad03fb83",
   "metadata": {},
   "outputs": [
    {
     "name": "stdout",
     "output_type": "stream",
     "text": [
      "<class 'pandas.core.frame.DataFrame'>\n",
      "RangeIndex: 36275 entries, 0 to 36274\n",
      "Data columns (total 19 columns):\n",
      " #   Column                                Non-Null Count  Dtype  \n",
      "---  ------                                --------------  -----  \n",
      " 0   Booking_ID                            36275 non-null  object \n",
      " 1   no_of_adults                          36275 non-null  int64  \n",
      " 2   no_of_children                        36275 non-null  int64  \n",
      " 3   no_of_weekend_nights                  36275 non-null  int64  \n",
      " 4   no_of_week_nights                     36275 non-null  int64  \n",
      " 5   type_of_meal_plan                     36275 non-null  object \n",
      " 6   required_car_parking_space            36275 non-null  int64  \n",
      " 7   room_type_reserved                    36275 non-null  object \n",
      " 8   lead_time                             36275 non-null  int64  \n",
      " 9   arrival_year                          36275 non-null  int64  \n",
      " 10  arrival_month                         36275 non-null  int64  \n",
      " 11  arrival_date                          36275 non-null  int64  \n",
      " 12  market_segment_type                   36275 non-null  object \n",
      " 13  repeated_guest                        36275 non-null  int64  \n",
      " 14  no_of_previous_cancellations          36275 non-null  int64  \n",
      " 15  no_of_previous_bookings_not_canceled  36275 non-null  int64  \n",
      " 16  avg_price_per_room                    36275 non-null  float64\n",
      " 17  no_of_special_requests                36275 non-null  int64  \n",
      " 18  booking_status                        36275 non-null  object \n",
      "dtypes: float64(1), int64(13), object(5)\n",
      "memory usage: 5.3+ MB\n"
     ]
    }
   ],
   "source": [
    "orig_data = pd.read_csv(\"Hotel Reservations.csv\")\n",
    "orig_data.shape\n",
    "orig_data.info()"
   ]
  },
  {
   "cell_type": "code",
   "execution_count": 3,
   "id": "2fdb8586",
   "metadata": {},
   "outputs": [
    {
     "data": {
      "text/html": [
       "<div>\n",
       "<style scoped>\n",
       "    .dataframe tbody tr th:only-of-type {\n",
       "        vertical-align: middle;\n",
       "    }\n",
       "\n",
       "    .dataframe tbody tr th {\n",
       "        vertical-align: top;\n",
       "    }\n",
       "\n",
       "    .dataframe thead th {\n",
       "        text-align: right;\n",
       "    }\n",
       "</style>\n",
       "<table border=\"1\" class=\"dataframe\">\n",
       "  <thead>\n",
       "    <tr style=\"text-align: right;\">\n",
       "      <th></th>\n",
       "      <th>no_of_adults</th>\n",
       "      <th>no_of_children</th>\n",
       "      <th>no_of_weekend_nights</th>\n",
       "      <th>no_of_week_nights</th>\n",
       "      <th>required_car_parking_space</th>\n",
       "      <th>lead_time</th>\n",
       "      <th>arrival_year</th>\n",
       "      <th>arrival_month</th>\n",
       "      <th>arrival_date</th>\n",
       "      <th>repeated_guest</th>\n",
       "      <th>no_of_previous_cancellations</th>\n",
       "      <th>no_of_previous_bookings_not_canceled</th>\n",
       "      <th>avg_price_per_room</th>\n",
       "      <th>no_of_special_requests</th>\n",
       "    </tr>\n",
       "  </thead>\n",
       "  <tbody>\n",
       "    <tr>\n",
       "      <th>count</th>\n",
       "      <td>36275.000000</td>\n",
       "      <td>36275.000000</td>\n",
       "      <td>36275.000000</td>\n",
       "      <td>36275.000000</td>\n",
       "      <td>36275.000000</td>\n",
       "      <td>36275.000000</td>\n",
       "      <td>36275.000000</td>\n",
       "      <td>36275.000000</td>\n",
       "      <td>36275.000000</td>\n",
       "      <td>36275.000000</td>\n",
       "      <td>36275.000000</td>\n",
       "      <td>36275.000000</td>\n",
       "      <td>36275.000000</td>\n",
       "      <td>36275.000000</td>\n",
       "    </tr>\n",
       "    <tr>\n",
       "      <th>mean</th>\n",
       "      <td>1.844962</td>\n",
       "      <td>0.105279</td>\n",
       "      <td>0.810724</td>\n",
       "      <td>2.204300</td>\n",
       "      <td>0.030986</td>\n",
       "      <td>85.232557</td>\n",
       "      <td>2017.820427</td>\n",
       "      <td>7.423653</td>\n",
       "      <td>15.596995</td>\n",
       "      <td>0.025637</td>\n",
       "      <td>0.023349</td>\n",
       "      <td>0.153411</td>\n",
       "      <td>103.423539</td>\n",
       "      <td>0.619655</td>\n",
       "    </tr>\n",
       "    <tr>\n",
       "      <th>std</th>\n",
       "      <td>0.518715</td>\n",
       "      <td>0.402648</td>\n",
       "      <td>0.870644</td>\n",
       "      <td>1.410905</td>\n",
       "      <td>0.173281</td>\n",
       "      <td>85.930817</td>\n",
       "      <td>0.383836</td>\n",
       "      <td>3.069894</td>\n",
       "      <td>8.740447</td>\n",
       "      <td>0.158053</td>\n",
       "      <td>0.368331</td>\n",
       "      <td>1.754171</td>\n",
       "      <td>35.089424</td>\n",
       "      <td>0.786236</td>\n",
       "    </tr>\n",
       "    <tr>\n",
       "      <th>min</th>\n",
       "      <td>0.000000</td>\n",
       "      <td>0.000000</td>\n",
       "      <td>0.000000</td>\n",
       "      <td>0.000000</td>\n",
       "      <td>0.000000</td>\n",
       "      <td>0.000000</td>\n",
       "      <td>2017.000000</td>\n",
       "      <td>1.000000</td>\n",
       "      <td>1.000000</td>\n",
       "      <td>0.000000</td>\n",
       "      <td>0.000000</td>\n",
       "      <td>0.000000</td>\n",
       "      <td>0.000000</td>\n",
       "      <td>0.000000</td>\n",
       "    </tr>\n",
       "    <tr>\n",
       "      <th>25%</th>\n",
       "      <td>2.000000</td>\n",
       "      <td>0.000000</td>\n",
       "      <td>0.000000</td>\n",
       "      <td>1.000000</td>\n",
       "      <td>0.000000</td>\n",
       "      <td>17.000000</td>\n",
       "      <td>2018.000000</td>\n",
       "      <td>5.000000</td>\n",
       "      <td>8.000000</td>\n",
       "      <td>0.000000</td>\n",
       "      <td>0.000000</td>\n",
       "      <td>0.000000</td>\n",
       "      <td>80.300000</td>\n",
       "      <td>0.000000</td>\n",
       "    </tr>\n",
       "    <tr>\n",
       "      <th>50%</th>\n",
       "      <td>2.000000</td>\n",
       "      <td>0.000000</td>\n",
       "      <td>1.000000</td>\n",
       "      <td>2.000000</td>\n",
       "      <td>0.000000</td>\n",
       "      <td>57.000000</td>\n",
       "      <td>2018.000000</td>\n",
       "      <td>8.000000</td>\n",
       "      <td>16.000000</td>\n",
       "      <td>0.000000</td>\n",
       "      <td>0.000000</td>\n",
       "      <td>0.000000</td>\n",
       "      <td>99.450000</td>\n",
       "      <td>0.000000</td>\n",
       "    </tr>\n",
       "    <tr>\n",
       "      <th>75%</th>\n",
       "      <td>2.000000</td>\n",
       "      <td>0.000000</td>\n",
       "      <td>2.000000</td>\n",
       "      <td>3.000000</td>\n",
       "      <td>0.000000</td>\n",
       "      <td>126.000000</td>\n",
       "      <td>2018.000000</td>\n",
       "      <td>10.000000</td>\n",
       "      <td>23.000000</td>\n",
       "      <td>0.000000</td>\n",
       "      <td>0.000000</td>\n",
       "      <td>0.000000</td>\n",
       "      <td>120.000000</td>\n",
       "      <td>1.000000</td>\n",
       "    </tr>\n",
       "    <tr>\n",
       "      <th>max</th>\n",
       "      <td>4.000000</td>\n",
       "      <td>10.000000</td>\n",
       "      <td>7.000000</td>\n",
       "      <td>17.000000</td>\n",
       "      <td>1.000000</td>\n",
       "      <td>443.000000</td>\n",
       "      <td>2018.000000</td>\n",
       "      <td>12.000000</td>\n",
       "      <td>31.000000</td>\n",
       "      <td>1.000000</td>\n",
       "      <td>13.000000</td>\n",
       "      <td>58.000000</td>\n",
       "      <td>540.000000</td>\n",
       "      <td>5.000000</td>\n",
       "    </tr>\n",
       "  </tbody>\n",
       "</table>\n",
       "</div>"
      ],
      "text/plain": [
       "       no_of_adults  no_of_children  no_of_weekend_nights  no_of_week_nights  \\\n",
       "count  36275.000000    36275.000000          36275.000000       36275.000000   \n",
       "mean       1.844962        0.105279              0.810724           2.204300   \n",
       "std        0.518715        0.402648              0.870644           1.410905   \n",
       "min        0.000000        0.000000              0.000000           0.000000   \n",
       "25%        2.000000        0.000000              0.000000           1.000000   \n",
       "50%        2.000000        0.000000              1.000000           2.000000   \n",
       "75%        2.000000        0.000000              2.000000           3.000000   \n",
       "max        4.000000       10.000000              7.000000          17.000000   \n",
       "\n",
       "       required_car_parking_space     lead_time  arrival_year  arrival_month  \\\n",
       "count                36275.000000  36275.000000  36275.000000   36275.000000   \n",
       "mean                     0.030986     85.232557   2017.820427       7.423653   \n",
       "std                      0.173281     85.930817      0.383836       3.069894   \n",
       "min                      0.000000      0.000000   2017.000000       1.000000   \n",
       "25%                      0.000000     17.000000   2018.000000       5.000000   \n",
       "50%                      0.000000     57.000000   2018.000000       8.000000   \n",
       "75%                      0.000000    126.000000   2018.000000      10.000000   \n",
       "max                      1.000000    443.000000   2018.000000      12.000000   \n",
       "\n",
       "       arrival_date  repeated_guest  no_of_previous_cancellations  \\\n",
       "count  36275.000000    36275.000000                  36275.000000   \n",
       "mean      15.596995        0.025637                      0.023349   \n",
       "std        8.740447        0.158053                      0.368331   \n",
       "min        1.000000        0.000000                      0.000000   \n",
       "25%        8.000000        0.000000                      0.000000   \n",
       "50%       16.000000        0.000000                      0.000000   \n",
       "75%       23.000000        0.000000                      0.000000   \n",
       "max       31.000000        1.000000                     13.000000   \n",
       "\n",
       "       no_of_previous_bookings_not_canceled  avg_price_per_room  \\\n",
       "count                          36275.000000        36275.000000   \n",
       "mean                               0.153411          103.423539   \n",
       "std                                1.754171           35.089424   \n",
       "min                                0.000000            0.000000   \n",
       "25%                                0.000000           80.300000   \n",
       "50%                                0.000000           99.450000   \n",
       "75%                                0.000000          120.000000   \n",
       "max                               58.000000          540.000000   \n",
       "\n",
       "       no_of_special_requests  \n",
       "count            36275.000000  \n",
       "mean                 0.619655  \n",
       "std                  0.786236  \n",
       "min                  0.000000  \n",
       "25%                  0.000000  \n",
       "50%                  0.000000  \n",
       "75%                  1.000000  \n",
       "max                  5.000000  "
      ]
     },
     "execution_count": 3,
     "metadata": {},
     "output_type": "execute_result"
    }
   ],
   "source": [
    "orig_data.describe()"
   ]
  },
  {
   "cell_type": "markdown",
   "id": "5ca0dd35",
   "metadata": {},
   "source": [
    "# Add the new Feautures\n"
   ]
  },
  {
   "cell_type": "code",
   "execution_count": 4,
   "id": "3a38e5d3",
   "metadata": {},
   "outputs": [],
   "source": [
    "#Feature 1--> Bookings Duration\n",
    "orig_data.insert(loc=orig_data.columns.get_loc('no_of_week_nights') + 1, column='booking_duration', value= orig_data['no_of_weekend_nights'] + orig_data['no_of_week_nights'])\n",
    "\n",
    "#Feature 2--> Difference in price and avg price\n",
    "orig_data.insert(loc=orig_data.columns.get_loc('avg_price_per_room') + 1, column='price_difference', value=orig_data['avg_price_per_room'] - orig_data.groupby('arrival_month')['avg_price_per_room'].transform('mean'))"
   ]
  },
  {
   "cell_type": "markdown",
   "id": "b28026b0",
   "metadata": {},
   "source": [
    "# Hodilay/new Feature addition\n"
   ]
  },
  {
   "cell_type": "code",
   "execution_count": 5,
   "id": "54c6f542",
   "metadata": {},
   "outputs": [
    {
     "name": "stdout",
     "output_type": "stream",
     "text": [
      "Requirement already satisfied: holidays in c:\\users\\antig\\anaconda33\\lib\\site-packages (0.38)\n",
      "Requirement already satisfied: python-dateutil in c:\\users\\antig\\anaconda33\\lib\\site-packages (from holidays) (2.8.2)\n",
      "Requirement already satisfied: six>=1.5 in c:\\users\\antig\\anaconda33\\lib\\site-packages (from python-dateutil->holidays) (1.16.0)\n",
      "Note: you may need to restart the kernel to use updated packages.\n"
     ]
    }
   ],
   "source": [
    "pip install holidays"
   ]
  },
  {
   "cell_type": "code",
   "execution_count": 6,
   "id": "23ea0017",
   "metadata": {},
   "outputs": [],
   "source": [
    "from datetime import date \n",
    "import holidays\n",
    "import calendar"
   ]
  },
  {
   "cell_type": "code",
   "execution_count": 7,
   "id": "88fafa69",
   "metadata": {},
   "outputs": [
    {
     "name": "stdout",
     "output_type": "stream",
     "text": [
      "(datetime.date(2017, 1, 1), 'Ano Novo')\n",
      "(datetime.date(2017, 4, 14), 'Sexta-feira Santa')\n",
      "(datetime.date(2017, 4, 16), 'Páscoa')\n",
      "(datetime.date(2017, 6, 15), 'Corpo de Deus')\n",
      "(datetime.date(2017, 10, 5), 'Implantação da República')\n",
      "(datetime.date(2017, 11, 1), 'Dia de Todos os Santos')\n",
      "(datetime.date(2017, 12, 1), 'Restauração da Independência')\n",
      "(datetime.date(2017, 4, 25), 'Dia da Liberdade')\n",
      "(datetime.date(2017, 5, 1), 'Dia do Trabalhador')\n",
      "(datetime.date(2017, 6, 10), 'Dia de Portugal, de Camões e das Comunidades Portuguesas')\n",
      "(datetime.date(2017, 8, 15), 'Assunção de Nossa Senhora')\n",
      "(datetime.date(2017, 12, 8), 'Imaculada Conceição')\n",
      "(datetime.date(2017, 12, 25), 'Dia de Natal')\n",
      "-------------------------------------------\n",
      "(datetime.date(2018, 1, 1), 'Ano Novo')\n",
      "(datetime.date(2018, 3, 30), 'Sexta-feira Santa')\n",
      "(datetime.date(2018, 4, 1), 'Páscoa')\n",
      "(datetime.date(2018, 5, 31), 'Corpo de Deus')\n",
      "(datetime.date(2018, 10, 5), 'Implantação da República')\n",
      "(datetime.date(2018, 11, 1), 'Dia de Todos os Santos')\n",
      "(datetime.date(2018, 12, 1), 'Restauração da Independência')\n",
      "(datetime.date(2018, 4, 25), 'Dia da Liberdade')\n",
      "(datetime.date(2018, 5, 1), 'Dia do Trabalhador')\n",
      "(datetime.date(2018, 6, 10), 'Dia de Portugal, de Camões e das Comunidades Portuguesas')\n",
      "(datetime.date(2018, 8, 15), 'Assunção de Nossa Senhora')\n",
      "(datetime.date(2018, 12, 8), 'Imaculada Conceição')\n",
      "(datetime.date(2018, 12, 25), 'Dia de Natal')\n",
      "-------------------------------------------\n",
      "Ιδιες ημερομηνιες αργιων/εορτων τα ετη 2017/2018\n"
     ]
    }
   ],
   "source": [
    "for ptr in holidays.Portugal(years = 2017).items():\n",
    "    print(ptr) \n",
    "print('-------------------------------------------')\n",
    "for ptr in holidays.Portugal(years = 2018).items():\n",
    "    print(ptr) \n",
    "    \n",
    "print('-------------------------------------------')\n",
    "print('Ιδιες ημερομηνιες αργιων/εορτων τα ετη 2017/2018')"
   ]
  },
  {
   "cell_type": "code",
   "execution_count": 8,
   "id": "9d661c2a",
   "metadata": {},
   "outputs": [],
   "source": [
    "value = pd.to_datetime(orig_data['arrival_year'].astype(str) + '-' + orig_data['arrival_month'].astype(str) + '-' + orig_data['arrival_date'].astype(str), errors = 'coerce')\n",
    "orig_data.insert(loc=orig_data.columns.get_loc('arrival_date') + 1, column = 'arrival_date_format', value = value )\n",
    "\n",
    "holidays_portugal = holidays.Portugal(years=2018)\n",
    "\n",
    "# Create a binary indicator for holidays for each booking\n",
    "orig_data.insert(loc=orig_data.columns.get_loc('arrival_date_format') + 1, column = 'is_holiday', value = False )\n",
    "\n",
    "\n",
    "for idx, row in orig_data.iterrows():\n",
    "    arrival_date = row['arrival_date_format']\n",
    "    total_nights = row['no_of_weekend_nights'] + row['no_of_week_nights']\n",
    "    departure_date = arrival_date + pd.DateOffset(days=total_nights - 1)\n",
    "    \n",
    "    # Check if arrival_date is not NaT\n",
    "    if pd.notna(arrival_date) & pd.notna(departure_date):\n",
    "            \n",
    "     # Check if any day of the booking period is a holiday\n",
    "        if any(date.date() in holidays_portugal for date in pd.date_range(arrival_date, departure_date, freq ='D')):\n",
    "            orig_data.at[idx, 'is_holiday'] = True"
   ]
  },
  {
   "cell_type": "code",
   "execution_count": 9,
   "id": "00ea6ec6",
   "metadata": {},
   "outputs": [
    {
     "data": {
      "text/plain": [
       "False    32098\n",
       "True      4177\n",
       "Name: is_holiday, dtype: int64"
      ]
     },
     "execution_count": 9,
     "metadata": {},
     "output_type": "execute_result"
    }
   ],
   "source": [
    "orig_data['is_holiday'].value_counts()"
   ]
  },
  {
   "cell_type": "code",
   "execution_count": 10,
   "id": "b3a7deb0",
   "metadata": {},
   "outputs": [
    {
     "name": "stdout",
     "output_type": "stream",
     "text": [
      "<class 'pandas.core.frame.DataFrame'>\n",
      "RangeIndex: 36275 entries, 0 to 36274\n",
      "Data columns (total 23 columns):\n",
      " #   Column                                Non-Null Count  Dtype         \n",
      "---  ------                                --------------  -----         \n",
      " 0   Booking_ID                            36275 non-null  object        \n",
      " 1   no_of_adults                          36275 non-null  int64         \n",
      " 2   no_of_children                        36275 non-null  int64         \n",
      " 3   no_of_weekend_nights                  36275 non-null  int64         \n",
      " 4   no_of_week_nights                     36275 non-null  int64         \n",
      " 5   booking_duration                      36275 non-null  int64         \n",
      " 6   type_of_meal_plan                     36275 non-null  object        \n",
      " 7   required_car_parking_space            36275 non-null  int64         \n",
      " 8   room_type_reserved                    36275 non-null  object        \n",
      " 9   lead_time                             36275 non-null  int64         \n",
      " 10  arrival_year                          36275 non-null  int64         \n",
      " 11  arrival_month                         36275 non-null  int64         \n",
      " 12  arrival_date                          36275 non-null  int64         \n",
      " 13  arrival_date_format                   36238 non-null  datetime64[ns]\n",
      " 14  is_holiday                            36275 non-null  bool          \n",
      " 15  market_segment_type                   36275 non-null  object        \n",
      " 16  repeated_guest                        36275 non-null  int64         \n",
      " 17  no_of_previous_cancellations          36275 non-null  int64         \n",
      " 18  no_of_previous_bookings_not_canceled  36275 non-null  int64         \n",
      " 19  avg_price_per_room                    36275 non-null  float64       \n",
      " 20  price_difference                      36275 non-null  float64       \n",
      " 21  no_of_special_requests                36275 non-null  int64         \n",
      " 22  booking_status                        36275 non-null  object        \n",
      "dtypes: bool(1), datetime64[ns](1), float64(2), int64(14), object(5)\n",
      "memory usage: 6.1+ MB\n"
     ]
    }
   ],
   "source": [
    "orig_data.shape\n",
    "orig_data.info()"
   ]
  },
  {
   "cell_type": "markdown",
   "id": "bd18a2cc",
   "metadata": {},
   "source": [
    "# Tranforming our data to numeric"
   ]
  },
  {
   "cell_type": "markdown",
   "id": "47eefefd",
   "metadata": {},
   "source": [
    "  1ος τροπος "
   ]
  },
  {
   "cell_type": "code",
   "execution_count": 11,
   "id": "d2e7b7c9",
   "metadata": {},
   "outputs": [],
   "source": [
    "#orig_data=orig_data.apply(pd.to_numeric, errors='coerce',downcast='integer')\n",
    "#orig_data.describe()"
   ]
  },
  {
   "cell_type": "markdown",
   "id": "6e60c4d0",
   "metadata": {},
   "source": [
    " 2ος τρόπος "
   ]
  },
  {
   "cell_type": "code",
   "execution_count": 12,
   "id": "dce4e20a",
   "metadata": {},
   "outputs": [],
   "source": [
    "from sklearn.preprocessing import LabelEncoder"
   ]
  },
  {
   "cell_type": "code",
   "execution_count": 13,
   "id": "ba989830",
   "metadata": {},
   "outputs": [
    {
     "name": "stdout",
     "output_type": "stream",
     "text": [
      "7 στήλες έχουν μετατραπεί.\n"
     ]
    }
   ],
   "source": [
    "le = LabelEncoder()\n",
    "le_count = 0 \n",
    "for col in orig_data: \n",
    "    if orig_data[col].dtype == 'object' or orig_data[col].dtype == 'datetime64[ns]' or orig_data[col].dtype == 'bool' : \n",
    "        orig_data[col] = le.fit_transform(orig_data[col]) \n",
    "        le_count += 1\n",
    "print('%d στήλες έχουν μετατραπεί.' % le_count)"
   ]
  },
  {
   "cell_type": "code",
   "execution_count": 14,
   "id": "94dd4572",
   "metadata": {},
   "outputs": [
    {
     "data": {
      "text/html": [
       "<div>\n",
       "<style scoped>\n",
       "    .dataframe tbody tr th:only-of-type {\n",
       "        vertical-align: middle;\n",
       "    }\n",
       "\n",
       "    .dataframe tbody tr th {\n",
       "        vertical-align: top;\n",
       "    }\n",
       "\n",
       "    .dataframe thead th {\n",
       "        text-align: right;\n",
       "    }\n",
       "</style>\n",
       "<table border=\"1\" class=\"dataframe\">\n",
       "  <thead>\n",
       "    <tr style=\"text-align: right;\">\n",
       "      <th></th>\n",
       "      <th>Booking_ID</th>\n",
       "      <th>no_of_adults</th>\n",
       "      <th>no_of_children</th>\n",
       "      <th>no_of_weekend_nights</th>\n",
       "      <th>no_of_week_nights</th>\n",
       "      <th>booking_duration</th>\n",
       "      <th>type_of_meal_plan</th>\n",
       "      <th>required_car_parking_space</th>\n",
       "      <th>room_type_reserved</th>\n",
       "      <th>lead_time</th>\n",
       "      <th>...</th>\n",
       "      <th>arrival_date_format</th>\n",
       "      <th>is_holiday</th>\n",
       "      <th>market_segment_type</th>\n",
       "      <th>repeated_guest</th>\n",
       "      <th>no_of_previous_cancellations</th>\n",
       "      <th>no_of_previous_bookings_not_canceled</th>\n",
       "      <th>avg_price_per_room</th>\n",
       "      <th>price_difference</th>\n",
       "      <th>no_of_special_requests</th>\n",
       "      <th>booking_status</th>\n",
       "    </tr>\n",
       "  </thead>\n",
       "  <tbody>\n",
       "    <tr>\n",
       "      <th>count</th>\n",
       "      <td>36275.000000</td>\n",
       "      <td>36275.000000</td>\n",
       "      <td>36275.000000</td>\n",
       "      <td>36275.000000</td>\n",
       "      <td>36275.000000</td>\n",
       "      <td>36275.000000</td>\n",
       "      <td>36275.000000</td>\n",
       "      <td>36275.000000</td>\n",
       "      <td>36275.000000</td>\n",
       "      <td>36275.000000</td>\n",
       "      <td>...</td>\n",
       "      <td>36275.000000</td>\n",
       "      <td>36275.000000</td>\n",
       "      <td>36275.000000</td>\n",
       "      <td>36275.000000</td>\n",
       "      <td>36275.000000</td>\n",
       "      <td>36275.000000</td>\n",
       "      <td>36275.000000</td>\n",
       "      <td>3.627500e+04</td>\n",
       "      <td>36275.000000</td>\n",
       "      <td>36275.000000</td>\n",
       "    </tr>\n",
       "    <tr>\n",
       "      <th>mean</th>\n",
       "      <td>18137.000000</td>\n",
       "      <td>1.844962</td>\n",
       "      <td>0.105279</td>\n",
       "      <td>0.810724</td>\n",
       "      <td>2.204300</td>\n",
       "      <td>3.015024</td>\n",
       "      <td>0.515644</td>\n",
       "      <td>0.030986</td>\n",
       "      <td>0.708890</td>\n",
       "      <td>85.232557</td>\n",
       "      <td>...</td>\n",
       "      <td>327.918429</td>\n",
       "      <td>0.115148</td>\n",
       "      <td>3.552447</td>\n",
       "      <td>0.025637</td>\n",
       "      <td>0.023349</td>\n",
       "      <td>0.153411</td>\n",
       "      <td>103.423539</td>\n",
       "      <td>8.785462e-15</td>\n",
       "      <td>0.619655</td>\n",
       "      <td>0.672364</td>\n",
       "    </tr>\n",
       "    <tr>\n",
       "      <th>std</th>\n",
       "      <td>10471.834844</td>\n",
       "      <td>0.518715</td>\n",
       "      <td>0.402648</td>\n",
       "      <td>0.870644</td>\n",
       "      <td>1.410905</td>\n",
       "      <td>1.786017</td>\n",
       "      <td>1.048131</td>\n",
       "      <td>0.173281</td>\n",
       "      <td>1.399851</td>\n",
       "      <td>85.930817</td>\n",
       "      <td>...</td>\n",
       "      <td>139.854142</td>\n",
       "      <td>0.319205</td>\n",
       "      <td>0.681536</td>\n",
       "      <td>0.158053</td>\n",
       "      <td>0.368331</td>\n",
       "      <td>1.754171</td>\n",
       "      <td>35.089424</td>\n",
       "      <td>3.310747e+01</td>\n",
       "      <td>0.786236</td>\n",
       "      <td>0.469358</td>\n",
       "    </tr>\n",
       "    <tr>\n",
       "      <th>min</th>\n",
       "      <td>0.000000</td>\n",
       "      <td>0.000000</td>\n",
       "      <td>0.000000</td>\n",
       "      <td>0.000000</td>\n",
       "      <td>0.000000</td>\n",
       "      <td>0.000000</td>\n",
       "      <td>0.000000</td>\n",
       "      <td>0.000000</td>\n",
       "      <td>0.000000</td>\n",
       "      <td>0.000000</td>\n",
       "      <td>...</td>\n",
       "      <td>0.000000</td>\n",
       "      <td>0.000000</td>\n",
       "      <td>0.000000</td>\n",
       "      <td>0.000000</td>\n",
       "      <td>0.000000</td>\n",
       "      <td>0.000000</td>\n",
       "      <td>0.000000</td>\n",
       "      <td>-1.159069e+02</td>\n",
       "      <td>0.000000</td>\n",
       "      <td>0.000000</td>\n",
       "    </tr>\n",
       "    <tr>\n",
       "      <th>25%</th>\n",
       "      <td>9068.500000</td>\n",
       "      <td>2.000000</td>\n",
       "      <td>0.000000</td>\n",
       "      <td>0.000000</td>\n",
       "      <td>1.000000</td>\n",
       "      <td>2.000000</td>\n",
       "      <td>0.000000</td>\n",
       "      <td>0.000000</td>\n",
       "      <td>0.000000</td>\n",
       "      <td>17.000000</td>\n",
       "      <td>...</td>\n",
       "      <td>242.000000</td>\n",
       "      <td>0.000000</td>\n",
       "      <td>3.000000</td>\n",
       "      <td>0.000000</td>\n",
       "      <td>0.000000</td>\n",
       "      <td>0.000000</td>\n",
       "      <td>80.300000</td>\n",
       "      <td>-1.896087e+01</td>\n",
       "      <td>0.000000</td>\n",
       "      <td>0.000000</td>\n",
       "    </tr>\n",
       "    <tr>\n",
       "      <th>50%</th>\n",
       "      <td>18137.000000</td>\n",
       "      <td>2.000000</td>\n",
       "      <td>0.000000</td>\n",
       "      <td>1.000000</td>\n",
       "      <td>2.000000</td>\n",
       "      <td>3.000000</td>\n",
       "      <td>0.000000</td>\n",
       "      <td>0.000000</td>\n",
       "      <td>0.000000</td>\n",
       "      <td>57.000000</td>\n",
       "      <td>...</td>\n",
       "      <td>346.000000</td>\n",
       "      <td>0.000000</td>\n",
       "      <td>4.000000</td>\n",
       "      <td>0.000000</td>\n",
       "      <td>0.000000</td>\n",
       "      <td>0.000000</td>\n",
       "      <td>99.450000</td>\n",
       "      <td>-3.149763e+00</td>\n",
       "      <td>0.000000</td>\n",
       "      <td>1.000000</td>\n",
       "    </tr>\n",
       "    <tr>\n",
       "      <th>75%</th>\n",
       "      <td>27205.500000</td>\n",
       "      <td>2.000000</td>\n",
       "      <td>0.000000</td>\n",
       "      <td>2.000000</td>\n",
       "      <td>3.000000</td>\n",
       "      <td>4.000000</td>\n",
       "      <td>0.000000</td>\n",
       "      <td>0.000000</td>\n",
       "      <td>0.000000</td>\n",
       "      <td>126.000000</td>\n",
       "      <td>...</td>\n",
       "      <td>445.000000</td>\n",
       "      <td>0.000000</td>\n",
       "      <td>4.000000</td>\n",
       "      <td>0.000000</td>\n",
       "      <td>0.000000</td>\n",
       "      <td>0.000000</td>\n",
       "      <td>120.000000</td>\n",
       "      <td>1.553913e+01</td>\n",
       "      <td>1.000000</td>\n",
       "      <td>1.000000</td>\n",
       "    </tr>\n",
       "    <tr>\n",
       "      <th>max</th>\n",
       "      <td>36274.000000</td>\n",
       "      <td>4.000000</td>\n",
       "      <td>10.000000</td>\n",
       "      <td>7.000000</td>\n",
       "      <td>17.000000</td>\n",
       "      <td>24.000000</td>\n",
       "      <td>3.000000</td>\n",
       "      <td>1.000000</td>\n",
       "      <td>6.000000</td>\n",
       "      <td>443.000000</td>\n",
       "      <td>...</td>\n",
       "      <td>549.000000</td>\n",
       "      <td>1.000000</td>\n",
       "      <td>4.000000</td>\n",
       "      <td>1.000000</td>\n",
       "      <td>13.000000</td>\n",
       "      <td>58.000000</td>\n",
       "      <td>540.000000</td>\n",
       "      <td>4.481163e+02</td>\n",
       "      <td>5.000000</td>\n",
       "      <td>1.000000</td>\n",
       "    </tr>\n",
       "  </tbody>\n",
       "</table>\n",
       "<p>8 rows × 23 columns</p>\n",
       "</div>"
      ],
      "text/plain": [
       "         Booking_ID  no_of_adults  no_of_children  no_of_weekend_nights  \\\n",
       "count  36275.000000  36275.000000    36275.000000          36275.000000   \n",
       "mean   18137.000000      1.844962        0.105279              0.810724   \n",
       "std    10471.834844      0.518715        0.402648              0.870644   \n",
       "min        0.000000      0.000000        0.000000              0.000000   \n",
       "25%     9068.500000      2.000000        0.000000              0.000000   \n",
       "50%    18137.000000      2.000000        0.000000              1.000000   \n",
       "75%    27205.500000      2.000000        0.000000              2.000000   \n",
       "max    36274.000000      4.000000       10.000000              7.000000   \n",
       "\n",
       "       no_of_week_nights  booking_duration  type_of_meal_plan  \\\n",
       "count       36275.000000      36275.000000       36275.000000   \n",
       "mean            2.204300          3.015024           0.515644   \n",
       "std             1.410905          1.786017           1.048131   \n",
       "min             0.000000          0.000000           0.000000   \n",
       "25%             1.000000          2.000000           0.000000   \n",
       "50%             2.000000          3.000000           0.000000   \n",
       "75%             3.000000          4.000000           0.000000   \n",
       "max            17.000000         24.000000           3.000000   \n",
       "\n",
       "       required_car_parking_space  room_type_reserved     lead_time  ...  \\\n",
       "count                36275.000000        36275.000000  36275.000000  ...   \n",
       "mean                     0.030986            0.708890     85.232557  ...   \n",
       "std                      0.173281            1.399851     85.930817  ...   \n",
       "min                      0.000000            0.000000      0.000000  ...   \n",
       "25%                      0.000000            0.000000     17.000000  ...   \n",
       "50%                      0.000000            0.000000     57.000000  ...   \n",
       "75%                      0.000000            0.000000    126.000000  ...   \n",
       "max                      1.000000            6.000000    443.000000  ...   \n",
       "\n",
       "       arrival_date_format    is_holiday  market_segment_type  repeated_guest  \\\n",
       "count         36275.000000  36275.000000         36275.000000    36275.000000   \n",
       "mean            327.918429      0.115148             3.552447        0.025637   \n",
       "std             139.854142      0.319205             0.681536        0.158053   \n",
       "min               0.000000      0.000000             0.000000        0.000000   \n",
       "25%             242.000000      0.000000             3.000000        0.000000   \n",
       "50%             346.000000      0.000000             4.000000        0.000000   \n",
       "75%             445.000000      0.000000             4.000000        0.000000   \n",
       "max             549.000000      1.000000             4.000000        1.000000   \n",
       "\n",
       "       no_of_previous_cancellations  no_of_previous_bookings_not_canceled  \\\n",
       "count                  36275.000000                          36275.000000   \n",
       "mean                       0.023349                              0.153411   \n",
       "std                        0.368331                              1.754171   \n",
       "min                        0.000000                              0.000000   \n",
       "25%                        0.000000                              0.000000   \n",
       "50%                        0.000000                              0.000000   \n",
       "75%                        0.000000                              0.000000   \n",
       "max                       13.000000                             58.000000   \n",
       "\n",
       "       avg_price_per_room  price_difference  no_of_special_requests  \\\n",
       "count        36275.000000      3.627500e+04            36275.000000   \n",
       "mean           103.423539      8.785462e-15                0.619655   \n",
       "std             35.089424      3.310747e+01                0.786236   \n",
       "min              0.000000     -1.159069e+02                0.000000   \n",
       "25%             80.300000     -1.896087e+01                0.000000   \n",
       "50%             99.450000     -3.149763e+00                0.000000   \n",
       "75%            120.000000      1.553913e+01                1.000000   \n",
       "max            540.000000      4.481163e+02                5.000000   \n",
       "\n",
       "       booking_status  \n",
       "count    36275.000000  \n",
       "mean         0.672364  \n",
       "std          0.469358  \n",
       "min          0.000000  \n",
       "25%          0.000000  \n",
       "50%          1.000000  \n",
       "75%          1.000000  \n",
       "max          1.000000  \n",
       "\n",
       "[8 rows x 23 columns]"
      ]
     },
     "execution_count": 14,
     "metadata": {},
     "output_type": "execute_result"
    }
   ],
   "source": [
    "orig_data.describe()"
   ]
  },
  {
   "cell_type": "markdown",
   "id": "4dfeb1b9",
   "metadata": {},
   "source": [
    "# Plot cancellation"
   ]
  },
  {
   "cell_type": "code",
   "execution_count": 15,
   "id": "11a64a1e",
   "metadata": {},
   "outputs": [
    {
     "data": {
      "image/png": "[encoded data removed]",
      "text/plain": [
       "<Figure size 1400x600 with 1 Axes>"
      ]
     },
     "metadata": {},
     "output_type": "display_data"
    }
   ],
   "source": [
    "class_sep = orig_data['booking_status'].value_counts().reset_index()\n",
    "\n",
    "# Bar plot with matplotlib\n",
    "plt.figure(figsize=(14, 6))\n",
    "p1 = plt.bar(class_sep['index'], class_sep['booking_status'], alpha=0.8)\n",
    "plt.xticks(class_sep['index'])\n",
    "plt.bar_label(p1)\n",
    "plt.title(\"Κατανομή της εξαρτημένης μεταβλητής (TARGET/Booking Status)\")\n",
    "plt.show()"
   ]
  },
  {
   "cell_type": "markdown",
   "id": "c72154e9",
   "metadata": {},
   "source": [
    "11885 ειναι οι ακυρωσεις!\n"
   ]
  },
  {
   "cell_type": "code",
   "execution_count": 16,
   "id": "f3af72a4",
   "metadata": {},
   "outputs": [
    {
     "data": {
      "text/plain": [
       "1    0.672364\n",
       "0    0.327636\n",
       "Name: booking_status, dtype: float64"
      ]
     },
     "execution_count": 16,
     "metadata": {},
     "output_type": "execute_result"
    }
   ],
   "source": [
    "# Get an exact percentage of not cancelled and cancelled\n",
    "orig_data['booking_status'].value_counts()/orig_data['booking_status'].count()"
   ]
  },
  {
   "cell_type": "markdown",
   "id": "ebf1305b",
   "metadata": {},
   "source": [
    "# Splitting data to features and labels"
   ]
  },
  {
   "cell_type": "markdown",
   "id": "cfb76855",
   "metadata": {},
   "source": [
    "θα αφαιρεσω την 1 στηλη booking_ID καθως δεν εχει προβλεπτικη ισχη και ως target column θα ορισω προφανως την τελευταια (πρεπει να αφαιρεθει απο τα Χ ), booking_status. Οι υπολοιπες ειναι παραμετροι προβλεψης"
   ]
  },
  {
   "cell_type": "code",
   "execution_count": 17,
   "id": "c5c98932",
   "metadata": {},
   "outputs": [],
   "source": [
    "X, y = orig_data.iloc[:,1:-1], orig_data.iloc[:,-1]"
   ]
  },
  {
   "cell_type": "markdown",
   "id": "adf55bdd",
   "metadata": {},
   "source": [
    "# Train and test split"
   ]
  },
  {
   "cell_type": "code",
   "execution_count": 18,
   "id": "c68315f8",
   "metadata": {},
   "outputs": [],
   "source": [
    "from sklearn.model_selection import train_test_split\n",
    "X_train, X_test, y_train, y_test = train_test_split(X, y, test_size=.33, random_state=123)"
   ]
  },
  {
   "cell_type": "code",
   "execution_count": 19,
   "id": "d775eb04",
   "metadata": {},
   "outputs": [
    {
     "data": {
      "text/plain": [
       "0    1\n",
       "1    1\n",
       "2    0\n",
       "3    0\n",
       "4    0\n",
       "Name: booking_status, dtype: int32"
      ]
     },
     "execution_count": 19,
     "metadata": {},
     "output_type": "execute_result"
    }
   ],
   "source": [
    "y.head()"
   ]
  },
  {
   "cell_type": "code",
   "execution_count": 20,
   "id": "8cdf2053",
   "metadata": {},
   "outputs": [
    {
     "data": {
      "text/html": [
       "<div>\n",
       "<style scoped>\n",
       "    .dataframe tbody tr th:only-of-type {\n",
       "        vertical-align: middle;\n",
       "    }\n",
       "\n",
       "    .dataframe tbody tr th {\n",
       "        vertical-align: top;\n",
       "    }\n",
       "\n",
       "    .dataframe thead th {\n",
       "        text-align: right;\n",
       "    }\n",
       "</style>\n",
       "<table border=\"1\" class=\"dataframe\">\n",
       "  <thead>\n",
       "    <tr style=\"text-align: right;\">\n",
       "      <th></th>\n",
       "      <th>no_of_adults</th>\n",
       "      <th>no_of_children</th>\n",
       "      <th>no_of_weekend_nights</th>\n",
       "      <th>no_of_week_nights</th>\n",
       "      <th>booking_duration</th>\n",
       "      <th>type_of_meal_plan</th>\n",
       "      <th>required_car_parking_space</th>\n",
       "      <th>room_type_reserved</th>\n",
       "      <th>lead_time</th>\n",
       "      <th>arrival_year</th>\n",
       "      <th>...</th>\n",
       "      <th>arrival_date</th>\n",
       "      <th>arrival_date_format</th>\n",
       "      <th>is_holiday</th>\n",
       "      <th>market_segment_type</th>\n",
       "      <th>repeated_guest</th>\n",
       "      <th>no_of_previous_cancellations</th>\n",
       "      <th>no_of_previous_bookings_not_canceled</th>\n",
       "      <th>avg_price_per_room</th>\n",
       "      <th>price_difference</th>\n",
       "      <th>no_of_special_requests</th>\n",
       "    </tr>\n",
       "  </thead>\n",
       "  <tbody>\n",
       "    <tr>\n",
       "      <th>0</th>\n",
       "      <td>2</td>\n",
       "      <td>0</td>\n",
       "      <td>1</td>\n",
       "      <td>2</td>\n",
       "      <td>3</td>\n",
       "      <td>0</td>\n",
       "      <td>0</td>\n",
       "      <td>0</td>\n",
       "      <td>224</td>\n",
       "      <td>2017</td>\n",
       "      <td>...</td>\n",
       "      <td>2</td>\n",
       "      <td>93</td>\n",
       "      <td>0</td>\n",
       "      <td>3</td>\n",
       "      <td>0</td>\n",
       "      <td>0</td>\n",
       "      <td>0</td>\n",
       "      <td>65.00</td>\n",
       "      <td>-39.460873</td>\n",
       "      <td>0</td>\n",
       "    </tr>\n",
       "    <tr>\n",
       "      <th>1</th>\n",
       "      <td>2</td>\n",
       "      <td>0</td>\n",
       "      <td>2</td>\n",
       "      <td>3</td>\n",
       "      <td>5</td>\n",
       "      <td>3</td>\n",
       "      <td>0</td>\n",
       "      <td>0</td>\n",
       "      <td>5</td>\n",
       "      <td>2018</td>\n",
       "      <td>...</td>\n",
       "      <td>6</td>\n",
       "      <td>493</td>\n",
       "      <td>0</td>\n",
       "      <td>4</td>\n",
       "      <td>0</td>\n",
       "      <td>0</td>\n",
       "      <td>0</td>\n",
       "      <td>106.68</td>\n",
       "      <td>15.394574</td>\n",
       "      <td>1</td>\n",
       "    </tr>\n",
       "    <tr>\n",
       "      <th>2</th>\n",
       "      <td>1</td>\n",
       "      <td>0</td>\n",
       "      <td>2</td>\n",
       "      <td>1</td>\n",
       "      <td>3</td>\n",
       "      <td>0</td>\n",
       "      <td>0</td>\n",
       "      <td>0</td>\n",
       "      <td>1</td>\n",
       "      <td>2018</td>\n",
       "      <td>...</td>\n",
       "      <td>28</td>\n",
       "      <td>242</td>\n",
       "      <td>0</td>\n",
       "      <td>4</td>\n",
       "      <td>0</td>\n",
       "      <td>0</td>\n",
       "      <td>0</td>\n",
       "      <td>60.00</td>\n",
       "      <td>-20.733644</td>\n",
       "      <td>0</td>\n",
       "    </tr>\n",
       "    <tr>\n",
       "      <th>3</th>\n",
       "      <td>2</td>\n",
       "      <td>0</td>\n",
       "      <td>0</td>\n",
       "      <td>2</td>\n",
       "      <td>2</td>\n",
       "      <td>0</td>\n",
       "      <td>0</td>\n",
       "      <td>0</td>\n",
       "      <td>211</td>\n",
       "      <td>2018</td>\n",
       "      <td>...</td>\n",
       "      <td>20</td>\n",
       "      <td>323</td>\n",
       "      <td>0</td>\n",
       "      <td>4</td>\n",
       "      <td>0</td>\n",
       "      <td>0</td>\n",
       "      <td>0</td>\n",
       "      <td>100.00</td>\n",
       "      <td>-13.810677</td>\n",
       "      <td>0</td>\n",
       "    </tr>\n",
       "    <tr>\n",
       "      <th>4</th>\n",
       "      <td>2</td>\n",
       "      <td>0</td>\n",
       "      <td>1</td>\n",
       "      <td>1</td>\n",
       "      <td>2</td>\n",
       "      <td>3</td>\n",
       "      <td>0</td>\n",
       "      <td>0</td>\n",
       "      <td>48</td>\n",
       "      <td>2018</td>\n",
       "      <td>...</td>\n",
       "      <td>11</td>\n",
       "      <td>284</td>\n",
       "      <td>0</td>\n",
       "      <td>4</td>\n",
       "      <td>0</td>\n",
       "      <td>0</td>\n",
       "      <td>0</td>\n",
       "      <td>94.50</td>\n",
       "      <td>-7.498801</td>\n",
       "      <td>0</td>\n",
       "    </tr>\n",
       "  </tbody>\n",
       "</table>\n",
       "<p>5 rows × 21 columns</p>\n",
       "</div>"
      ],
      "text/plain": [
       "   no_of_adults  no_of_children  no_of_weekend_nights  no_of_week_nights  \\\n",
       "0             2               0                     1                  2   \n",
       "1             2               0                     2                  3   \n",
       "2             1               0                     2                  1   \n",
       "3             2               0                     0                  2   \n",
       "4             2               0                     1                  1   \n",
       "\n",
       "   booking_duration  type_of_meal_plan  required_car_parking_space  \\\n",
       "0                 3                  0                           0   \n",
       "1                 5                  3                           0   \n",
       "2                 3                  0                           0   \n",
       "3                 2                  0                           0   \n",
       "4                 2                  3                           0   \n",
       "\n",
       "   room_type_reserved  lead_time  arrival_year  ...  arrival_date  \\\n",
       "0                   0        224          2017  ...             2   \n",
       "1                   0          5          2018  ...             6   \n",
       "2                   0          1          2018  ...            28   \n",
       "3                   0        211          2018  ...            20   \n",
       "4                   0         48          2018  ...            11   \n",
       "\n",
       "   arrival_date_format  is_holiday  market_segment_type  repeated_guest  \\\n",
       "0                   93           0                    3               0   \n",
       "1                  493           0                    4               0   \n",
       "2                  242           0                    4               0   \n",
       "3                  323           0                    4               0   \n",
       "4                  284           0                    4               0   \n",
       "\n",
       "   no_of_previous_cancellations  no_of_previous_bookings_not_canceled  \\\n",
       "0                             0                                     0   \n",
       "1                             0                                     0   \n",
       "2                             0                                     0   \n",
       "3                             0                                     0   \n",
       "4                             0                                     0   \n",
       "\n",
       "   avg_price_per_room  price_difference  no_of_special_requests  \n",
       "0               65.00        -39.460873                       0  \n",
       "1              106.68         15.394574                       1  \n",
       "2               60.00        -20.733644                       0  \n",
       "3              100.00        -13.810677                       0  \n",
       "4               94.50         -7.498801                       0  \n",
       "\n",
       "[5 rows x 21 columns]"
      ]
     },
     "execution_count": 20,
     "metadata": {},
     "output_type": "execute_result"
    }
   ],
   "source": [
    "X.head()"
   ]
  },
  {
   "cell_type": "markdown",
   "id": "14ddfb59",
   "metadata": {},
   "source": [
    "# XGBClassifier"
   ]
  },
  {
   "cell_type": "code",
   "execution_count": 21,
   "id": "5bf736cb",
   "metadata": {},
   "outputs": [
    {
     "data": {
      "text/plain": [
       "{'objective': 'binary:logistic',\n",
       " 'use_label_encoder': None,\n",
       " 'base_score': None,\n",
       " 'booster': None,\n",
       " 'callbacks': None,\n",
       " 'colsample_bylevel': None,\n",
       " 'colsample_bynode': None,\n",
       " 'colsample_bytree': None,\n",
       " 'early_stopping_rounds': None,\n",
       " 'enable_categorical': False,\n",
       " 'eval_metric': None,\n",
       " 'feature_types': None,\n",
       " 'gamma': None,\n",
       " 'gpu_id': None,\n",
       " 'grow_policy': None,\n",
       " 'importance_type': None,\n",
       " 'interaction_constraints': None,\n",
       " 'learning_rate': None,\n",
       " 'max_bin': None,\n",
       " 'max_cat_threshold': None,\n",
       " 'max_cat_to_onehot': None,\n",
       " 'max_delta_step': None,\n",
       " 'max_depth': None,\n",
       " 'max_leaves': None,\n",
       " 'min_child_weight': None,\n",
       " 'missing': nan,\n",
       " 'monotone_constraints': None,\n",
       " 'n_estimators': 100,\n",
       " 'n_jobs': None,\n",
       " 'num_parallel_tree': None,\n",
       " 'predictor': None,\n",
       " 'random_state': 123,\n",
       " 'reg_alpha': None,\n",
       " 'reg_lambda': None,\n",
       " 'sampling_method': None,\n",
       " 'scale_pos_weight': None,\n",
       " 'subsample': None,\n",
       " 'tree_method': None,\n",
       " 'validate_parameters': None,\n",
       " 'verbosity': None}"
      ]
     },
     "execution_count": 21,
     "metadata": {},
     "output_type": "execute_result"
    }
   ],
   "source": [
    "# Instatiate a XGBClassifier \n",
    "xgb_clf=xgb.XGBClassifier(random_state=123)\n",
    "\n",
    "# Inspect the parameters\n",
    "xgb_clf.get_params()"
   ]
  },
  {
   "cell_type": "markdown",
   "id": "1fc14736",
   "metadata": {},
   "source": [
    "# Grid Search"
   ]
  },
  {
   "cell_type": "code",
   "execution_count": 22,
   "id": "dfa69661",
   "metadata": {},
   "outputs": [],
   "source": [
    "from xgboost import XGBClassifier\n",
    "from sklearn.model_selection import RandomizedSearchCV, StratifiedKFold, GridSearchCV\n",
    "from sklearn.metrics import accuracy_score, f1_score, classification_report, confusion_matrix"
   ]
  },
  {
   "cell_type": "markdown",
   "id": "6f24906f",
   "metadata": {},
   "source": [
    "συγκρινω ποιες ειναι οι πιο απότελεσματικες υπερπαραμετροι"
   ]
  },
  {
   "cell_type": "code",
   "execution_count": null,
   "id": "e8c74e9e",
   "metadata": {},
   "outputs": [
    {
     "name": "stdout",
     "output_type": "stream",
     "text": [
      "Fitting 3 folds for each of 27 candidates, totalling 81 fits\n"
     ]
    }
   ],
   "source": [
    "xgb_param_grid={\"n_estimators\":[100,600,1000],\n",
    "                \"max_depth\":[3,4,5],\n",
    "                \"learning_rate\":[0.01,0.1,0.3],\n",
    "                'scale_pos_weight':[0.487228987]}\n",
    "\n",
    "xgb = XGBClassifier(objective=\"binary:logistic\", eval_metric=\"auc\", random_state=123)\n",
    "\n",
    "cv_f=StratifiedKFold(n_splits=3,shuffle=True)\n",
    "\n",
    "rand_search = GridSearchCV(estimator=xgb, param_grid=xgb_param_grid, n_jobs=2, cv=cv_f, verbose=1, scoring='roc_auc')\n",
    "\n",
    "rand_search.fit(X_train,y_train)\n",
    "\n",
    "preds= rand_search.predict(X_test)\n",
    "\n",
    "print(\"The accuracy score is: \" , accuracy_score(y_test, preds))\n",
    "print(\"Below, it is presented the classification report\")\n",
    "print(classification_report(y_test, preds))\n",
    "print(\"An initial presentation of the confusion matrix\")\n",
    "print(confusion_matrix(y_test, preds))"
   ]
  },
  {
   "cell_type": "code",
   "execution_count": null,
   "id": "c86f12c9",
   "metadata": {},
   "outputs": [],
   "source": [
    "print(\"Best parameters found:\", rand_search.best_params_)\n",
    "print(\"Best score found:\", rand_search.best_score_)"
   ]
  },
  {
   "cell_type": "markdown",
   "id": "90d51331",
   "metadata": {},
   "source": [
    "# Confusion Matrix"
   ]
  },
  {
   "cell_type": "code",
   "execution_count": null,
   "id": "f94a7533",
   "metadata": {},
   "outputs": [],
   "source": [
    "import matplotlib.pyplot as plt\n",
    "from sklearn.datasets import make_classification\n",
    "from sklearn.metrics import confusion_matrix, ConfusionMatrixDisplay\n",
    "\n",
    "cm=confusion_matrix(y_test, preds, labels=rand_search.classes_)\n",
    "disp=ConfusionMatrixDisplay(confusion_matrix=cm, display_labels=['Ακυρωμένη',' Μη Ακυρωμένη']) \n",
    "fig, ax = plt.subplots(figsize=(10,6))\n",
    "disp.plot(ax=ax)\n",
    "plt.title(\" Πίνακας Σύγχυσης /The confusion matrix\")\n",
    "plt.ylabel(\"Πραγματική τιμή (True label)\") \n",
    "plt.xlabel(\"Τιμή που προβλέφθηκε (Predicted label)\")\n",
    "plt.show()"
   ]
  },
  {
   "cell_type": "markdown",
   "id": "75546fae",
   "metadata": {},
   "source": [
    "# Η καμπύλη ROC"
   ]
  },
  {
   "cell_type": "code",
   "execution_count": null,
   "id": "f1de33b8",
   "metadata": {},
   "outputs": [],
   "source": [
    "from sklearn import metrics\n",
    "preds2 = rand_search.predict_proba(X_test)[::,1] \n",
    "fpr,tpr, _ = metrics.roc_curve(y_test, preds2)"
   ]
  },
  {
   "cell_type": "code",
   "execution_count": null,
   "id": "581366b9",
   "metadata": {},
   "outputs": [],
   "source": [
    "plt.subplots(figsize=(10,6)) \n",
    "plt.plot(fpr,tpr) \n",
    "plt.ylabel('True Positive Rate') \n",
    "plt.xlabel('False Positive Rate') \n",
    "plt.title(\"The ROC curve\") \n",
    "plt.show()"
   ]
  },
  {
   "cell_type": "markdown",
   "id": "b457e622",
   "metadata": {},
   "source": [
    "# Η καμπύλη AUC"
   ]
  },
  {
   "cell_type": "code",
   "execution_count": null,
   "id": "d9549347",
   "metadata": {},
   "outputs": [],
   "source": [
    "auc = metrics.roc_auc_score(y_test, preds2)"
   ]
  },
  {
   "cell_type": "code",
   "execution_count": null,
   "id": "3d39488f",
   "metadata": {},
   "outputs": [],
   "source": [
    "plt.subplots(figsize=(10,6)) \n",
    "plt.plot(fpr,tpr,label=\"AUC=\"+str(auc)) \n",
    "plt.ylabel('True Positive Rate') \n",
    "plt.xlabel('False Positive Rate') \n",
    "plt.legend(loc=4)\n",
    "plt.title(\"The AUC curve\") \n",
    "plt.show()"
   ]
  },
  {
   "cell_type": "markdown",
   "id": "debd150d",
   "metadata": {},
   "source": [
    "# Διαγραμμα σπουδαιότητας βαση βαρυτητας weight¶"
   ]
  },
  {
   "cell_type": "code",
   "execution_count": null,
   "id": "c35c0869",
   "metadata": {},
   "outputs": [],
   "source": [
    "from xgboost import plot_importance\n",
    "xgb_cl = rand_search.best_estimator_ \n",
    "fig, ax = plt.subplots(figsize=(10, 6))\n",
    "plot_importance(xgb_cl, importance_type='weight', max_num_features=15, ax=ax)\n",
    "plt.show()"
   ]
  },
  {
   "cell_type": "markdown",
   "id": "c5755d4f",
   "metadata": {},
   "source": [
    "# Διαγραμμα σπουδαιότητας βαση βαρυτητας κερδους"
   ]
  },
  {
   "cell_type": "code",
   "execution_count": null,
   "id": "072d2d39",
   "metadata": {},
   "outputs": [],
   "source": [
    "xgb_cl = rand_search.best_estimator_ \n",
    "fig, ax = plt.subplots(figsize=(10, 6)) \n",
    "plot_importance(xgb_cl, importance_type='gain', max_num_features=15, ax=ax) \n",
    "plt.show()"
   ]
  },
  {
   "cell_type": "markdown",
   "id": "b321d221",
   "metadata": {},
   "source": [
    "# SHAP - EXPLAINABILITY"
   ]
  },
  {
   "cell_type": "code",
   "execution_count": null,
   "id": "c1cfdfad",
   "metadata": {},
   "outputs": [],
   "source": [
    "pip install shap"
   ]
  },
  {
   "cell_type": "code",
   "execution_count": null,
   "id": "07143b4e",
   "metadata": {},
   "outputs": [],
   "source": [
    "import shap"
   ]
  },
  {
   "cell_type": "code",
   "execution_count": null,
   "id": "c41f36fe",
   "metadata": {},
   "outputs": [],
   "source": [
    "# compute SHAP values\n",
    "explainer = shap.Explainer(rand_search.best_estimator_, X_train)\n",
    "shap_values = explainer(X_train)"
   ]
  },
  {
   "cell_type": "code",
   "execution_count": null,
   "id": "2ba9b358",
   "metadata": {},
   "outputs": [],
   "source": [
    "shap_values.base_values"
   ]
  },
  {
   "cell_type": "markdown",
   "id": "4cbd6ef9",
   "metadata": {},
   "source": [
    "# BEEWARM"
   ]
  },
  {
   "cell_type": "code",
   "execution_count": null,
   "id": "7497b22c",
   "metadata": {},
   "outputs": [],
   "source": [
    "shap.plots.beeswarm(shap_values)"
   ]
  },
  {
   "cell_type": "markdown",
   "id": "0cbe8f9e",
   "metadata": {},
   "source": [
    "# VIOLIN"
   ]
  },
  {
   "cell_type": "code",
   "execution_count": null,
   "id": "fd13ca20",
   "metadata": {},
   "outputs": [],
   "source": [
    "shap.summary_plot(shap_values, plot_type='violin')"
   ]
  },
  {
   "cell_type": "code",
   "execution_count": null,
   "id": "c0022e87",
   "metadata": {},
   "outputs": [],
   "source": [
    "shap.plots.scatter(shap_values[:, \"lead_time\"])"
   ]
  },
  {
   "cell_type": "code",
   "execution_count": null,
   "id": "c5e3bab0",
   "metadata": {},
   "outputs": [],
   "source": [
    "shap.plots.scatter(shap_values[:, \"market_segment_type\"])"
   ]
  },
  {
   "cell_type": "markdown",
   "id": "aa5b56b2",
   "metadata": {},
   "source": [
    "# LOCAL BAR PLOT"
   ]
  },
  {
   "cell_type": "markdown",
   "id": "aabf5ce7",
   "metadata": {},
   "source": [
    "Για την ανάλυση των τοπικών επιπτώσεων, μπορούμε να χρησιμοποιήσουμε τις ακόλουθες γραφικές παραστάσεις σε μεμονωμένες παρατηρήσεις ( shap_values[0] )."
   ]
  },
  {
   "cell_type": "code",
   "execution_count": null,
   "id": "608ea9ea",
   "metadata": {},
   "outputs": [],
   "source": [
    "shap.plots.bar(shap_values[0])"
   ]
  },
  {
   "cell_type": "code",
   "execution_count": null,
   "id": "56c454f4",
   "metadata": {},
   "outputs": [],
   "source": [
    "shap_values[0]"
   ]
  },
  {
   "cell_type": "code",
   "execution_count": null,
   "id": "2544074b",
   "metadata": {},
   "outputs": [],
   "source": [
    "shap_values[1]"
   ]
  },
  {
   "cell_type": "markdown",
   "id": "17d13eeb",
   "metadata": {},
   "source": [
    "# WATERFALL"
   ]
  },
  {
   "cell_type": "code",
   "execution_count": null,
   "id": "429bb575",
   "metadata": {},
   "outputs": [],
   "source": [
    "shap.plots.waterfall(shap_values[0])"
   ]
  },
  {
   "cell_type": "markdown",
   "id": "8f9a5cd3",
   "metadata": {},
   "source": [
    "# FORCE PLOT"
   ]
  },
  {
   "cell_type": "code",
   "execution_count": null,
   "id": "0a570e04",
   "metadata": {},
   "outputs": [],
   "source": [
    "import matplotlib\n",
    "import shap\n",
    "\n",
    "shap.initjs()\n",
    "shap.force_plot(shap_values[0], matplotlib=True)"
   ]
  },
  {
   "cell_type": "code",
   "execution_count": null,
   "id": "df8416b1",
   "metadata": {},
   "outputs": [],
   "source": [
    "shap.decision_plot( shap_values[0] )"
   ]
  },
  {
   "cell_type": "code",
   "execution_count": null,
   "id": "54896fe9",
   "metadata": {},
   "outputs": [],
   "source": []
  }
 ],
 "metadata": {
  "kernelspec": {
   "display_name": "Python 3 (ipykernel)",
   "language": "python",
   "name": "python3"
  },
  "language_info": {
   "codemirror_mode": {
    "name": "ipython",
    "version": 3
   },
   "file_extension": ".py",
   "mimetype": "text/x-python",
   "name": "python",
   "nbconvert_exporter": "python",
   "pygments_lexer": "ipython3",
   "version": "3.9.13"
  }
 },
 "nbformat": 4,
 "nbformat_minor": 5
}
